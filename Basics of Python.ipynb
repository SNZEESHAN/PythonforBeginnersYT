{
 "cells": [
  {
   "cell_type": "code",
   "execution_count": 3,
   "id": "a7a5b793",
   "metadata": {},
   "outputs": [
    {
     "name": "stdout",
     "output_type": "stream",
     "text": [
      "Weight kgs: 63\n",
      "140.0\n"
     ]
    }
   ],
   "source": [
    "#Unit Conversion\n",
    "\n",
    "weight_kgs = input('Weight kgs: ')\n",
    "weight_lbs = int(weight_kgs)/0.45\n",
    "print(weight_lbs)"
   ]
  },
  {
   "cell_type": "code",
   "execution_count": 4,
   "id": "b37c41ff",
   "metadata": {},
   "outputs": [
    {
     "name": "stdout",
     "output_type": "stream",
     "text": [
      "Python Course for \"Beginners\"\n"
     ]
    }
   ],
   "source": [
    "# Strings 1 \n",
    "course = 'Python Course for \"Beginners\"'\n",
    "print(course)"
   ]
  },
  {
   "cell_type": "code",
   "execution_count": 6,
   "id": "b29f2e59",
   "metadata": {},
   "outputs": [
    {
     "name": "stdout",
     "output_type": "stream",
     "text": [
      "Python Course for 'Beginners'\n"
     ]
    }
   ],
   "source": [
    "#Strings 2\n",
    "\n",
    "course = \"Python Course for 'Beginners'\"\n",
    "print(course)"
   ]
  },
  {
   "cell_type": "code",
   "execution_count": 7,
   "id": "d7821943",
   "metadata": {},
   "outputs": [
    {
     "name": "stdout",
     "output_type": "stream",
     "text": [
      "\n",
      "Hi John, \n",
      "Here is our first email of the new assignment\n",
      "I hope you like it. \n",
      "\n",
      "Thank you \n",
      "\n",
      "Regards Zeeshan\n",
      "\n",
      "\n"
     ]
    }
   ],
   "source": [
    "# Strings with 3 inverted commas\n",
    "\n",
    "course = '''\n",
    "Hi John, \n",
    "Here is our first email of the new assignment\n",
    "I hope you like it. \n",
    "\n",
    "Thank you \n",
    "\n",
    "Regards Zeeshan\n",
    "\n",
    "'''\n",
    "\n",
    "print(course)"
   ]
  },
  {
   "cell_type": "code",
   "execution_count": 9,
   "id": "9fa59191",
   "metadata": {},
   "outputs": [
    {
     "name": "stdout",
     "output_type": "stream",
     "text": [
      "Pyth\n"
     ]
    }
   ],
   "source": [
    "#Character Strings\n",
    "\n",
    "course = 'Python for Beginners'\n",
    "print (course[0:4])"
   ]
  },
  {
   "cell_type": "code",
   "execution_count": 10,
   "id": "9612d4fb",
   "metadata": {},
   "outputs": [
    {
     "name": "stdout",
     "output_type": "stream",
     "text": [
      "ennife\n"
     ]
    }
   ],
   "source": [
    "# Character Strings 2 \n",
    "\n",
    "name = 'Jennifer'\n",
    "print(name[1:-1])"
   ]
  },
  {
   "cell_type": "code",
   "execution_count": 12,
   "id": "40c4916d",
   "metadata": {},
   "outputs": [
    {
     "name": "stdout",
     "output_type": "stream",
     "text": [
      "Zeeshan [Shariff] is a coder\n"
     ]
    }
   ],
   "source": [
    "#Strings with no formatting\n",
    "\n",
    "first = 'Zeeshan'\n",
    "last = 'Shariff'\n",
    "message = first + ' [' + last + '] is a coder'\n",
    "print(message)"
   ]
  },
  {
   "cell_type": "code",
   "execution_count": 13,
   "id": "8b6c752f",
   "metadata": {},
   "outputs": [
    {
     "name": "stdout",
     "output_type": "stream",
     "text": [
      "Zeeshan [Shariff] is a coder\n"
     ]
    }
   ],
   "source": [
    "# Strings with Formatiing (Formatting Strings) it is prefixed as (f'')\n",
    "\n",
    "first = 'Zeeshan'\n",
    "last = 'Shariff'  \n",
    "message = first + ' [' + last + '] is a coder'\n",
    "msg = f'{first} [{last}] is a coder'\n",
    "print(msg)"
   ]
  },
  {
   "cell_type": "code",
   "execution_count": 20,
   "id": "db12bb22",
   "metadata": {},
   "outputs": [
    {
     "name": "stdout",
     "output_type": "stream",
     "text": [
      "Python for Beginners\n",
      "PYTHON FOR BEGINNERS\n",
      "python for beginners\n",
      "0\n"
     ]
    }
   ],
   "source": [
    " # String Methods \n",
    "course = 'Python for Beginners'\n",
    "print(course)\n",
    "print(course.upper())\n",
    "print(course.lower())\n",
    "\n"
   ]
  },
  {
   "cell_type": "code",
   "execution_count": 22,
   "id": "73c92ca8",
   "metadata": {},
   "outputs": [
    {
     "name": "stdout",
     "output_type": "stream",
     "text": [
      "0\n",
      "11\n"
     ]
    }
   ],
   "source": [
    "# String Methods 2 ('find string') NOTE : This is string method is case sensitive \n",
    "\n",
    "course = 'Python for Beginners'\n",
    "print(course.find('P'))\n",
    "print(course.find('Beginners'))\n"
   ]
  },
  {
   "cell_type": "code",
   "execution_count": 26,
   "id": "3dea3928",
   "metadata": {},
   "outputs": [
    {
     "name": "stdout",
     "output_type": "stream",
     "text": [
      "Python for Newbies\n"
     ]
    }
   ],
   "source": [
    "# String Methods 3 ('replace string') NOTE : This is string method is case sensitive \n",
    "\n",
    "course = 'Python for Beginners'\n",
    "print(course.replace('Beginners','Newbies'))"
   ]
  },
  {
   "cell_type": "code",
   "execution_count": 27,
   "id": "3f878622",
   "metadata": {},
   "outputs": [
    {
     "name": "stdout",
     "output_type": "stream",
     "text": [
      "Phython for Beginners\n"
     ]
    }
   ],
   "source": [
    "# String Methods 3.1 ('replace string') NOTE : This is string method is case sensitive \n",
    "course = 'Python for Beginners'\n",
    "print(course.replace('P','Ph')) "
   ]
  },
  {
   "cell_type": "code",
   "execution_count": 28,
   "id": "4d416f65",
   "metadata": {},
   "outputs": [
    {
     "name": "stdout",
     "output_type": "stream",
     "text": [
      "True\n"
     ]
    }
   ],
   "source": [
    "# String Methods 4 ( IN function). Note : This Function acts as a boolean function which means it is a True or False. \n",
    "course = 'Python for Beginners'\n",
    "print('Python' in course)"
   ]
  },
  {
   "cell_type": "code",
   "execution_count": 30,
   "id": "8a4b30ef",
   "metadata": {},
   "outputs": [
    {
     "name": "stdout",
     "output_type": "stream",
     "text": [
      "False\n"
     ]
    }
   ],
   "source": [
    "# String Methods 4.1 ( IN function). Note : This Function acts as a boolean function which means it is a True or False. In the same way this is also case sensitive. \n",
    "course = 'Python for Beginners'\n",
    "print('python' in course)"
   ]
  },
  {
   "cell_type": "code",
   "execution_count": 31,
   "id": "201eaa7d",
   "metadata": {},
   "outputs": [
    {
     "name": "stdout",
     "output_type": "stream",
     "text": [
      "20\n"
     ]
    }
   ],
   "source": [
    "x = 10 \n",
    "x = x + 10\n",
    "print(x)"
   ]
  },
  {
   "cell_type": "code",
   "execution_count": 32,
   "id": "2cb6c0dd",
   "metadata": {},
   "outputs": [
    {
     "name": "stdout",
     "output_type": "stream",
     "text": [
      "23\n"
     ]
    }
   ],
   "source": [
    "# Augmented Operator\n",
    "\n",
    "x = 10 \n",
    "x = x + 10\n",
    "x += 3\n",
    "print(x)"
   ]
  },
  {
   "cell_type": "code",
   "execution_count": 34,
   "id": "bb09eba4",
   "metadata": {},
   "outputs": [
    {
     "name": "stdout",
     "output_type": "stream",
     "text": [
      "16\n",
      "47\n"
     ]
    }
   ],
   "source": [
    "# Operator Precedence. NOTE: The Exponents take the first place in precedence then follows multiplication. On the other hand, if we have parenthesis then python executes that code first \n",
    "\n",
    "\n",
    "x = 10 + 3 * 2\n",
    "print (x)\n",
    "\n",
    "# Exercise \n",
    "x = (2+3) * 10 - 3\n",
    "print (x)\n"
   ]
  },
  {
   "cell_type": "code",
   "execution_count": 36,
   "id": "c7a133a3",
   "metadata": {},
   "outputs": [
    {
     "name": "stdout",
     "output_type": "stream",
     "text": [
      "3\n",
      "2.9\n"
     ]
    }
   ],
   "source": [
    "# Math Functions \n",
    "\n",
    "x = 2.9\n",
    "print(round(x)) # Round Function\n",
    "\n",
    "x = 2.9\n",
    "print(abs(-2.9))"
   ]
  }
 ],
 "metadata": {
  "kernelspec": {
   "display_name": "Python 3",
   "language": "python",
   "name": "python3"
  },
  "language_info": {
   "codemirror_mode": {
    "name": "ipython",
    "version": 3
   },
   "file_extension": ".py",
   "mimetype": "text/x-python",
   "name": "python",
   "nbconvert_exporter": "python",
   "pygments_lexer": "ipython3",
   "version": "3.8.8"
  }
 },
 "nbformat": 4,
 "nbformat_minor": 5
}
