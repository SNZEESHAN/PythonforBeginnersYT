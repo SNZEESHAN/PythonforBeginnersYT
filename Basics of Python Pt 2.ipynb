{
 "cells": [
  {
   "cell_type": "code",
   "execution_count": null,
   "id": "1cb418e3",
   "metadata": {},
   "outputs": [],
   "source": [
    "# If statements\n",
    "\n",
    "is_hot = True\n",
    "\n",
    "if is_hot:\n",
    "    print (\"Its's a hot day \")\n",
    "    print (\"Drink plenty of water\")\n",
    "print (\"Enjoy your day\")"
   ]
  },
  {
   "cell_type": "code",
   "execution_count": null,
   "id": "9ec629a6",
   "metadata": {},
   "outputs": [],
   "source": [
    "# If statements \n",
    "\n",
    "is_hot = False\n",
    "\n",
    "if is_hot:\n",
    "    print (\"Its's a hot day \")\n",
    "    print (\"Drink plenty of water\")\n",
    "else: \n",
    "    print(\"It's a cold day\")\n",
    "    print (\"Wear warm clothes\")\n",
    "print (\"Enjoy your day\")"
   ]
  },
  {
   "cell_type": "code",
   "execution_count": null,
   "id": "a755a2bf",
   "metadata": {},
   "outputs": [],
   "source": [
    "# If statements \n",
    "\n",
    "is_hot = True\n",
    "is_cold = True\n",
    "\n",
    "if is_hot:\n",
    "    print (\"Its's a hot day \")\n",
    "    print (\"Drink plenty of water\")\n",
    "elif is_cold:\n",
    "    print(\"It's a cold day\")\n",
    "    print (\"Wear warm clothes\")\n",
    "    \n",
    "else:\n",
    "    print (\"It's a lovely day\")\n",
    "\n",
    "print (\"Enjoy your day\")"
   ]
  },
  {
   "cell_type": "code",
   "execution_count": null,
   "id": "eac32987",
   "metadata": {},
   "outputs": [],
   "source": [
    "# If Statements Exercise \n",
    "\n",
    "price = 1000000\n",
    "has_good_credit = False \n",
    "\n",
    "if has_good_credit: \n",
    "   down_payment = 0.1 * price \n",
    "else: \n",
    "    down_payment = 0.2 * price \n",
    "print(f\"Down Payment: {down_payment}\")"
   ]
  },
  {
   "cell_type": "code",
   "execution_count": 1,
   "id": "c1bf4cb8",
   "metadata": {},
   "outputs": [
    {
     "name": "stdout",
     "output_type": "stream",
     "text": [
      "Eligible for loan\n"
     ]
    }
   ],
   "source": [
    "# Logical Operators. \"AND\" ( To get the result, Both the CONDITIONS should be true.)\n",
    "\n",
    "has_high_income = True\n",
    "has_good_credit = True \n",
    "\n",
    "if has_high_income and has_good_credit:\n",
    "    print(\"Eligible for loan\")\n"
   ]
  },
  {
   "cell_type": "code",
   "execution_count": 6,
   "id": "a8902859",
   "metadata": {},
   "outputs": [
    {
     "name": "stdout",
     "output_type": "stream",
     "text": [
      "Eligible for loan\n"
     ]
    }
   ],
   "source": [
    "# Logical Operators. \"OR\" (To get the result, Atleast one CONDITION should be true )\n",
    "\n",
    "has_high_income = False \n",
    "has_good_credit = True\n",
    "\n",
    "if has_high_income or has_good_credit:\n",
    "    print(\"Eligible for loan\")"
   ]
  },
  {
   "cell_type": "code",
   "execution_count": 9,
   "id": "26e1d6c1",
   "metadata": {},
   "outputs": [
    {
     "name": "stdout",
     "output_type": "stream",
     "text": [
      "Eligible for loan\n"
     ]
    }
   ],
   "source": [
    "#Logical Operators. \"NOT\" (It inverses the boolean condition)\n",
    "\n",
    "has_good_credit = True\n",
    "has_criminal_record = False \n",
    "\n",
    "if has_good_credit and not has_criminal_record: \n",
    "    print(\"Eligible for loan\")"
   ]
  },
  {
   "cell_type": "code",
   "execution_count": 14,
   "id": "930e3745",
   "metadata": {},
   "outputs": [
    {
     "name": "stdout",
     "output_type": "stream",
     "text": [
      "It's a hot day\n"
     ]
    }
   ],
   "source": [
    "# Comparison Operators. ( >, <, =, !=)\n",
    "\n",
    "temperature = 40\n",
    "\n",
    "if temperature > 30:\n",
    "    print (\"It's a hot day\")\n",
    "else:\n",
    "    print (\"It's not a hot day\")"
   ]
  },
  {
   "cell_type": "code",
   "execution_count": 19,
   "id": "3ad29869",
   "metadata": {},
   "outputs": [
    {
     "name": "stdout",
     "output_type": "stream",
     "text": [
      "Name must be at least 3 character\n"
     ]
    }
   ],
   "source": [
    "name = \"T\"\n",
    "if len(name)<3:\n",
    "    print(\"Name must be at least 3 character\")\n",
    "elif len(name) > 50:\n",
    "    print(\"Name must be a maximum of 50 characters\")\n",
    "else: \n",
    "    print(\"Name looks good\")"
   ]
  },
  {
   "cell_type": "code",
   "execution_count": 29,
   "id": "d5531763",
   "metadata": {},
   "outputs": [
    {
     "name": "stdout",
     "output_type": "stream",
     "text": [
      "Weight: 100\n",
      "(L)bs or (K)gsl\n",
      "You are 45.0 kilos\n"
     ]
    }
   ],
   "source": [
    "# Weight Conversion Exercise \n",
    "\n",
    "weight = int(input('Weight: '))\n",
    "unit = input('(L)bs or (K)gs')\n",
    "if unit.upper() == \"L\":\n",
    "    converted = weight * 0.45\n",
    "    print(f\"You are {converted} kilos\")\n",
    "else: \n",
    "    converted = weight / 0.45\n",
    "    print (f\"You are {converted} pounds\")"
   ]
  },
  {
   "cell_type": "code",
   "execution_count": 31,
   "id": "032e8def",
   "metadata": {},
   "outputs": [
    {
     "name": "stdout",
     "output_type": "stream",
     "text": [
      "2\n",
      "4\n",
      "6\n",
      "8\n",
      "10\n",
      "Done\n"
     ]
    }
   ],
   "source": [
    "# While Loop (Executing a Block of Code multiple times)\n",
    "\n",
    "i = 1 \n",
    "while i <=5: \n",
    "    print(2*i)\n",
    "    i = i + 1\n",
    "print(\"Done\")"
   ]
  },
  {
   "cell_type": "code",
   "execution_count": null,
   "id": "d8dde875",
   "metadata": {},
   "outputs": [],
   "source": []
  }
 ],
 "metadata": {
  "kernelspec": {
   "display_name": "Python 3",
   "language": "python",
   "name": "python3"
  },
  "language_info": {
   "codemirror_mode": {
    "name": "ipython",
    "version": 3
   },
   "file_extension": ".py",
   "mimetype": "text/x-python",
   "name": "python",
   "nbconvert_exporter": "python",
   "pygments_lexer": "ipython3",
   "version": "3.8.8"
  }
 },
 "nbformat": 4,
 "nbformat_minor": 5
}
