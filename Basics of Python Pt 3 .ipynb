{
 "cells": [
  {
   "cell_type": "code",
   "execution_count": null,
   "id": "f5ba528a",
   "metadata": {},
   "outputs": [],
   "source": [
    "# While loop (Guessing Game using While Loop)\n",
    "\n",
    "secret_number = 9\n",
    "guess_count = 0\n",
    "guess_limit = 3\n",
    "\n",
    "while guess_count < guess_limit: \n",
    "    guess = int(input('Guess = '))\n",
    "    guess_count += 1\n",
    "    if guess == secret_number:\n",
    "        print('You Won!')\n",
    "        break \n",
    "else:\n",
    "    print('Sorry, You lost the guess game')"
   ]
  },
  {
   "cell_type": "code",
   "execution_count": null,
   "id": "e937998b",
   "metadata": {},
   "outputs": [],
   "source": [
    "#Building a Car Game\n",
    "\n",
    "command = \"\"\n",
    "started = False\n",
    "while True:\n",
    "    command = input(\"> \").lower()\n",
    "    if command == \"start\":\n",
    "        if started:\n",
    "            print(\"Car already started!\")\n",
    "        else:\n",
    "            started = True\n",
    "            print(\"Car Started....\")\n",
    "    elif command == \"stop\":\n",
    "        if not started\n",
    "            print(\"Car has already stopped\")\n",
    "        else:\n",
    "            started = False\n",
    "            print(\"Car Stopped\")\n",
    "    elif command == \"help\":\n",
    "        print(\"\"\"\n",
    "start - to start the car \n",
    "stop - to stop the car\n",
    "quit - to quit\n",
    "        \"\"\")\n",
    "    elif command == \"quit\":\n",
    "        break\n",
    "    else:\n",
    "        print(\"Sorry, I dont understand that\")"
   ]
  }
 ],
 "metadata": {
  "kernelspec": {
   "display_name": "Python 3",
   "language": "python",
   "name": "python3"
  },
  "language_info": {
   "codemirror_mode": {
    "name": "ipython",
    "version": 3
   },
   "file_extension": ".py",
   "mimetype": "text/x-python",
   "name": "python",
   "nbconvert_exporter": "python",
   "pygments_lexer": "ipython3",
   "version": "3.8.8"
  }
 },
 "nbformat": 4,
 "nbformat_minor": 5
}
